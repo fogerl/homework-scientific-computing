{
 "cells": [
  {
   "cell_type": "code",
   "execution_count": 1,
   "metadata": {},
   "outputs": [],
   "source": [
    "import matplotlib.pyplot as plt\n",
    "import pandas as pd\n",
    "import os\n",
    "import numpy as np\n",
    "import datetime\n",
    "import glob\n",
    "from pathlib import Path\n",
    "from sklearn import datasets, linear_model\n",
    "from sklearn.metrics import mean_squared_error, r2_score\n",
    "\n",
    "DOWNLOAD_DIR = '/home/christoph/Documents/projects/scientific_computing/entsoe-data'"
   ]
  },
  {
   "cell_type": "markdown",
   "metadata": {},
   "source": [
    "This will import the data, you have to run it to be able to solve the homework."
   ]
  },
  {
   "cell_type": "code",
   "execution_count": 2,
   "metadata": {},
   "outputs": [
    {
     "name": "stdout",
     "output_type": "stream",
     "text": [
      "Concatenating 68 csv files...\n",
      "Loading done.\n"
     ]
    }
   ],
   "source": [
    "def read_single_csv_entso_e(file):\n",
    "    return pd.read_csv(file, sep='\\t', encoding='utf-16', parse_dates=[\"DateTime\"])\n",
    "\n",
    "\n",
    "def load_complete_entso_e_data(directory):\n",
    "    pattern = Path(directory) / '*.csv'\n",
    "    files = glob.glob(str(pattern))\n",
    "\n",
    "    if not files:\n",
    "        raise ValueError(f\"No files found when searching in {pattern}, wrong directory?\")\n",
    "    \n",
    "    print(f'Concatenating {len(files)} csv files...')\n",
    "\n",
    "    each_csv_file = [read_single_csv_entso_e(file) for file in files]\n",
    "    data = pd.concat(each_csv_file, ignore_index=True)\n",
    "\n",
    "    data = data.sort_values(by=[\"AreaName\", \"DateTime\"])\n",
    "    data = data.set_index(\"DateTime\")\n",
    "\n",
    "    print(\"Loading done.\")\n",
    "\n",
    "    return data\n",
    "\n",
    "\n",
    "power_demand = load_complete_entso_e_data(DOWNLOAD_DIR)"
   ]
  },
  {
   "cell_type": "markdown",
   "metadata": {},
   "source": [
    "# Exercise 1 - Calculate the relation of Wednesday average consumption to Sunday average consumption for selected countries\n",
    "\n",
    "In this exercise, calculate the relation of Wednesday average consumption to Sunday average consumption for the following countries: Austria, Germany, United Kingdom, Spain, Sweden, Italy, Croatia.\n",
    "\n",
    "(1) First create a variable that contains only power consumption data for these countries. The pandas command ```isin()``` may be very helpful here. Reduce the data to only consider the period 2015-01-01 until 2019-12-31. The lecture slides may contain relevant code here.\n",
    "\n",
    "(2) Then, group the data by weekday and country (i.e. AreaName). Use ```groupby``` and ```mean```for that purpose. \n",
    "\n",
    "(3) Calculate for all countries the proportion of Wednesday (day 2) and Sunday (day 6) by dividing the two values.\n",
    "\n",
    "(4) For which country, this relative value is highest? What could this indicate?"
   ]
  },
  {
   "cell_type": "code",
   "execution_count": 3,
   "metadata": {},
   "outputs": [],
   "source": [
    "countries_select = [\"Austria\", \"Germany\", \"United Kingdom\", \"Spain\", \"Sweden\", \"Italy\", \"Croatia\"]\n",
    "power_demand_countries_select = power_demand[power_demand.AreaName.isin(countries_select)]\n",
    "power_demand_countries_select = power_demand_countries_select[\"2015-01-01\":\"2019-12-31\"]"
   ]
  },
  {
   "cell_type": "code",
   "execution_count": 4,
   "metadata": {},
   "outputs": [],
   "source": [
    "power_demand_weekday_mean = power_demand_countries_select.groupby([power_demand_countries_select.index.weekday, \"AreaName\"]).mean()"
   ]
  },
  {
   "cell_type": "code",
   "execution_count": 5,
   "metadata": {},
   "outputs": [
    {
     "data": {
      "text/html": [
       "<div>\n",
       "<style scoped>\n",
       "    .dataframe tbody tr th:only-of-type {\n",
       "        vertical-align: middle;\n",
       "    }\n",
       "\n",
       "    .dataframe tbody tr th {\n",
       "        vertical-align: top;\n",
       "    }\n",
       "\n",
       "    .dataframe thead th {\n",
       "        text-align: right;\n",
       "    }\n",
       "</style>\n",
       "<table border=\"1\" class=\"dataframe\">\n",
       "  <thead>\n",
       "    <tr style=\"text-align: right;\">\n",
       "      <th></th>\n",
       "      <th>AreaName</th>\n",
       "      <th>DateTime</th>\n",
       "      <th>TotalLoadValue</th>\n",
       "    </tr>\n",
       "  </thead>\n",
       "  <tbody>\n",
       "    <tr>\n",
       "      <th>0</th>\n",
       "      <td>Austria</td>\n",
       "      <td>2</td>\n",
       "      <td>7597.097115</td>\n",
       "    </tr>\n",
       "    <tr>\n",
       "      <th>1</th>\n",
       "      <td>Croatia</td>\n",
       "      <td>2</td>\n",
       "      <td>2072.242308</td>\n",
       "    </tr>\n",
       "    <tr>\n",
       "      <th>2</th>\n",
       "      <td>Germany</td>\n",
       "      <td>2</td>\n",
       "      <td>59894.796293</td>\n",
       "    </tr>\n",
       "    <tr>\n",
       "      <th>3</th>\n",
       "      <td>Italy</td>\n",
       "      <td>2</td>\n",
       "      <td>35925.647596</td>\n",
       "    </tr>\n",
       "    <tr>\n",
       "      <th>4</th>\n",
       "      <td>Spain</td>\n",
       "      <td>2</td>\n",
       "      <td>30108.756696</td>\n",
       "    </tr>\n",
       "    <tr>\n",
       "      <th>5</th>\n",
       "      <td>Sweden</td>\n",
       "      <td>2</td>\n",
       "      <td>16188.529006</td>\n",
       "    </tr>\n",
       "    <tr>\n",
       "      <th>6</th>\n",
       "      <td>United Kingdom</td>\n",
       "      <td>2</td>\n",
       "      <td>37681.473124</td>\n",
       "    </tr>\n",
       "    <tr>\n",
       "      <th>7</th>\n",
       "      <td>Austria</td>\n",
       "      <td>6</td>\n",
       "      <td>5982.295785</td>\n",
       "    </tr>\n",
       "    <tr>\n",
       "      <th>8</th>\n",
       "      <td>Croatia</td>\n",
       "      <td>6</td>\n",
       "      <td>1802.134738</td>\n",
       "    </tr>\n",
       "    <tr>\n",
       "      <th>9</th>\n",
       "      <td>Germany</td>\n",
       "      <td>6</td>\n",
       "      <td>46127.261956</td>\n",
       "    </tr>\n",
       "    <tr>\n",
       "      <th>10</th>\n",
       "      <td>Italy</td>\n",
       "      <td>6</td>\n",
       "      <td>26104.259419</td>\n",
       "    </tr>\n",
       "    <tr>\n",
       "      <th>11</th>\n",
       "      <td>Spain</td>\n",
       "      <td>6</td>\n",
       "      <td>24857.647031</td>\n",
       "    </tr>\n",
       "    <tr>\n",
       "      <th>12</th>\n",
       "      <td>Sweden</td>\n",
       "      <td>6</td>\n",
       "      <td>14489.429647</td>\n",
       "    </tr>\n",
       "    <tr>\n",
       "      <th>13</th>\n",
       "      <td>United Kingdom</td>\n",
       "      <td>6</td>\n",
       "      <td>33251.563333</td>\n",
       "    </tr>\n",
       "  </tbody>\n",
       "</table>\n",
       "</div>"
      ],
      "text/plain": [
       "          AreaName  DateTime  TotalLoadValue\n",
       "0          Austria         2     7597.097115\n",
       "1          Croatia         2     2072.242308\n",
       "2          Germany         2    59894.796293\n",
       "3            Italy         2    35925.647596\n",
       "4            Spain         2    30108.756696\n",
       "5           Sweden         2    16188.529006\n",
       "6   United Kingdom         2    37681.473124\n",
       "7          Austria         6     5982.295785\n",
       "8          Croatia         6     1802.134738\n",
       "9          Germany         6    46127.261956\n",
       "10           Italy         6    26104.259419\n",
       "11           Spain         6    24857.647031\n",
       "12          Sweden         6    14489.429647\n",
       "13  United Kingdom         6    33251.563333"
      ]
     },
     "execution_count": 5,
     "metadata": {},
     "output_type": "execute_result"
    }
   ],
   "source": [
    "power_demand_wed_sun = power_demand_weekday_mean.loc[[2, 6]].reset_index()[[\"AreaName\", \"DateTime\", \"TotalLoadValue\"]]\n",
    "power_demand_wed_sun"
   ]
  },
  {
   "cell_type": "code",
   "execution_count": 6,
   "metadata": {},
   "outputs": [
    {
     "data": {
      "text/html": [
       "<div>\n",
       "<style scoped>\n",
       "    .dataframe tbody tr th:only-of-type {\n",
       "        vertical-align: middle;\n",
       "    }\n",
       "\n",
       "    .dataframe tbody tr th {\n",
       "        vertical-align: top;\n",
       "    }\n",
       "\n",
       "    .dataframe thead tr th {\n",
       "        text-align: left;\n",
       "    }\n",
       "\n",
       "    .dataframe thead tr:last-of-type th {\n",
       "        text-align: right;\n",
       "    }\n",
       "</style>\n",
       "<table border=\"1\" class=\"dataframe\">\n",
       "  <thead>\n",
       "    <tr>\n",
       "      <th></th>\n",
       "      <th colspan=\"2\" halign=\"left\">TotalLoadValue</th>\n",
       "      <th>wed_sun_quotient</th>\n",
       "    </tr>\n",
       "    <tr>\n",
       "      <th>DateTime</th>\n",
       "      <th>2</th>\n",
       "      <th>6</th>\n",
       "      <th></th>\n",
       "    </tr>\n",
       "    <tr>\n",
       "      <th>AreaName</th>\n",
       "      <th></th>\n",
       "      <th></th>\n",
       "      <th></th>\n",
       "    </tr>\n",
       "  </thead>\n",
       "  <tbody>\n",
       "    <tr>\n",
       "      <th>Austria</th>\n",
       "      <td>7597.097115</td>\n",
       "      <td>5982.295785</td>\n",
       "      <td>1.269930</td>\n",
       "    </tr>\n",
       "    <tr>\n",
       "      <th>Croatia</th>\n",
       "      <td>2072.242308</td>\n",
       "      <td>1802.134738</td>\n",
       "      <td>1.149882</td>\n",
       "    </tr>\n",
       "    <tr>\n",
       "      <th>Germany</th>\n",
       "      <td>59894.796293</td>\n",
       "      <td>46127.261956</td>\n",
       "      <td>1.298468</td>\n",
       "    </tr>\n",
       "    <tr>\n",
       "      <th>Italy</th>\n",
       "      <td>35925.647596</td>\n",
       "      <td>26104.259419</td>\n",
       "      <td>1.376237</td>\n",
       "    </tr>\n",
       "    <tr>\n",
       "      <th>Spain</th>\n",
       "      <td>30108.756696</td>\n",
       "      <td>24857.647031</td>\n",
       "      <td>1.211247</td>\n",
       "    </tr>\n",
       "    <tr>\n",
       "      <th>Sweden</th>\n",
       "      <td>16188.529006</td>\n",
       "      <td>14489.429647</td>\n",
       "      <td>1.117265</td>\n",
       "    </tr>\n",
       "    <tr>\n",
       "      <th>United Kingdom</th>\n",
       "      <td>37681.473124</td>\n",
       "      <td>33251.563333</td>\n",
       "      <td>1.133224</td>\n",
       "    </tr>\n",
       "  </tbody>\n",
       "</table>\n",
       "</div>"
      ],
      "text/plain": [
       "               TotalLoadValue               wed_sun_quotient\n",
       "DateTime                    2             6                 \n",
       "AreaName                                                    \n",
       "Austria           7597.097115   5982.295785         1.269930\n",
       "Croatia           2072.242308   1802.134738         1.149882\n",
       "Germany          59894.796293  46127.261956         1.298468\n",
       "Italy            35925.647596  26104.259419         1.376237\n",
       "Spain            30108.756696  24857.647031         1.211247\n",
       "Sweden           16188.529006  14489.429647         1.117265\n",
       "United Kingdom   37681.473124  33251.563333         1.133224"
      ]
     },
     "execution_count": 6,
     "metadata": {},
     "output_type": "execute_result"
    }
   ],
   "source": [
    "power_demand_wed_sun = power_demand_wed_sun.pivot(index = \"AreaName\", columns = \"DateTime\", values = [\"TotalLoadValue\"])\n",
    "power_demand_wed_sun[\"wed_sun_quotient\"] = power_demand_wed_sun.iloc[:,0] / power_demand_wed_sun.iloc[:,1]\n",
    "power_demand_wed_sun"
   ]
  },
  {
   "cell_type": "code",
   "execution_count": 7,
   "metadata": {},
   "outputs": [
    {
     "data": {
      "text/plain": [
       "Text(0, 0.5, 'Electricity load (MW)')"
      ]
     },
     "execution_count": 7,
     "metadata": {},
     "output_type": "execute_result"
    },
    {
     "data": {
      "image/png": "[encoded data removed]",
      "text/plain": [
       "<Figure size 432x288 with 1 Axes>"
      ]
     },
     "metadata": {
      "needs_background": "light"
     },
     "output_type": "display_data"
    }
   ],
   "source": [
    "power_demand_wed_sun.iloc[:,2].plot(kind = \"bar\")\n",
    "plt.xlabel(\"Country\")\n",
    "plt.ylabel(\"Electricity load (MW)\")"
   ]
  },
  {
   "cell_type": "code",
   "execution_count": 8,
   "metadata": {
    "scrolled": true
   },
   "outputs": [
    {
     "data": {
      "text/plain": [
       "'Italy'"
      ]
     },
     "execution_count": 8,
     "metadata": {},
     "output_type": "execute_result"
    }
   ],
   "source": [
    "power_demand_wed_sun.iloc[:,2].idxmax()"
   ]
  },
  {
   "cell_type": "markdown",
   "metadata": {},
   "source": [
    "# Exercise 2 - Calculate the monthly average consumption as deviation from mean consumption\n",
    "\n",
    "For the same countries as in the above dataset, calculate the monthly mean consumption as deviation from the mean of consumption over the whole time. Plot the curves for all countries.\n",
    "\n",
    "(1) First create a variable that contains only power consumption data for the selected countries. The pandas command ```isin()``` may be very helpful here. If you did Exercise 1, you can use the same dataset.\n",
    "\n",
    "(2) Then, aggregate the data by country (i.e. AreaName) and month. Use ```groupby``` and ```mean``` for that purpose. Select the column ```TotalLoadValue``` from the result.\n",
    "\n",
    "(3)  Aggregate the data by country (i..e AreaName) only, i.e. calculate the average consumption by country using ```groupby``` and ```mean```. Select the column ```TotalLoadValue``` from the result.\n",
    "\n",
    "(4) Divide the result of (2) by (3) and observe how well broadcasting works here.\n",
    "\n",
    "(5) Use the command ```unstack``` on the result. How does the table look now? Plot the result. If your resulting, unstacked dataframe is called ```result```, you may use ```result.plot()``` to get a nice plot.\n",
    "\n",
    "(6) How would you explain the difference in the curve between Croatia and Sweden?\n"
   ]
  },
  {
   "cell_type": "code",
   "execution_count": 9,
   "metadata": {},
   "outputs": [
    {
     "data": {
      "text/html": [
       "<div>\n",
       "<style scoped>\n",
       "    .dataframe tbody tr th:only-of-type {\n",
       "        vertical-align: middle;\n",
       "    }\n",
       "\n",
       "    .dataframe tbody tr th {\n",
       "        vertical-align: top;\n",
       "    }\n",
       "\n",
       "    .dataframe thead th {\n",
       "        text-align: right;\n",
       "    }\n",
       "</style>\n",
       "<table border=\"1\" class=\"dataframe\">\n",
       "  <thead>\n",
       "    <tr style=\"text-align: right;\">\n",
       "      <th></th>\n",
       "      <th>Year</th>\n",
       "      <th>Month</th>\n",
       "      <th>Day</th>\n",
       "      <th>ResolutionCode</th>\n",
       "      <th>areacode</th>\n",
       "      <th>AreaTypeCode</th>\n",
       "      <th>AreaName</th>\n",
       "      <th>MapCode</th>\n",
       "      <th>TotalLoadValue</th>\n",
       "      <th>UpdateTime</th>\n",
       "    </tr>\n",
       "    <tr>\n",
       "      <th>DateTime</th>\n",
       "      <th></th>\n",
       "      <th></th>\n",
       "      <th></th>\n",
       "      <th></th>\n",
       "      <th></th>\n",
       "      <th></th>\n",
       "      <th></th>\n",
       "      <th></th>\n",
       "      <th></th>\n",
       "      <th></th>\n",
       "    </tr>\n",
       "  </thead>\n",
       "  <tbody>\n",
       "    <tr>\n",
       "      <th>2014-12-31 23:00:00</th>\n",
       "      <td>2014</td>\n",
       "      <td>12</td>\n",
       "      <td>31</td>\n",
       "      <td>PT15M</td>\n",
       "      <td>10YDE-VE-------2</td>\n",
       "      <td>CTA</td>\n",
       "      <td>50Hertz CA</td>\n",
       "      <td>DE_50HzT</td>\n",
       "      <td>7412.14</td>\n",
       "      <td>2017-09-14 04:16:36</td>\n",
       "    </tr>\n",
       "    <tr>\n",
       "      <th>2014-12-31 23:15:00</th>\n",
       "      <td>2014</td>\n",
       "      <td>12</td>\n",
       "      <td>31</td>\n",
       "      <td>PT15M</td>\n",
       "      <td>10YDE-VE-------2</td>\n",
       "      <td>CTA</td>\n",
       "      <td>50Hertz CA</td>\n",
       "      <td>DE_50HzT</td>\n",
       "      <td>7305.11</td>\n",
       "      <td>2017-09-14 04:16:36</td>\n",
       "    </tr>\n",
       "    <tr>\n",
       "      <th>2014-12-31 23:30:00</th>\n",
       "      <td>2014</td>\n",
       "      <td>12</td>\n",
       "      <td>31</td>\n",
       "      <td>PT15M</td>\n",
       "      <td>10YDE-VE-------2</td>\n",
       "      <td>CTA</td>\n",
       "      <td>50Hertz CA</td>\n",
       "      <td>DE_50HzT</td>\n",
       "      <td>7263.03</td>\n",
       "      <td>2017-09-14 04:16:36</td>\n",
       "    </tr>\n",
       "    <tr>\n",
       "      <th>2014-12-31 23:45:00</th>\n",
       "      <td>2014</td>\n",
       "      <td>12</td>\n",
       "      <td>31</td>\n",
       "      <td>PT15M</td>\n",
       "      <td>10YDE-VE-------2</td>\n",
       "      <td>CTA</td>\n",
       "      <td>50Hertz CA</td>\n",
       "      <td>DE_50HzT</td>\n",
       "      <td>7103.58</td>\n",
       "      <td>2017-09-14 04:16:36</td>\n",
       "    </tr>\n",
       "    <tr>\n",
       "      <th>2015-01-01 00:00:00</th>\n",
       "      <td>2015</td>\n",
       "      <td>1</td>\n",
       "      <td>1</td>\n",
       "      <td>PT15M</td>\n",
       "      <td>10YDE-VE-------2</td>\n",
       "      <td>CTA</td>\n",
       "      <td>50Hertz CA</td>\n",
       "      <td>DE_50HzT</td>\n",
       "      <td>6958.62</td>\n",
       "      <td>2017-09-14 04:00:17</td>\n",
       "    </tr>\n",
       "    <tr>\n",
       "      <th>...</th>\n",
       "      <td>...</td>\n",
       "      <td>...</td>\n",
       "      <td>...</td>\n",
       "      <td>...</td>\n",
       "      <td>...</td>\n",
       "      <td>...</td>\n",
       "      <td>...</td>\n",
       "      <td>...</td>\n",
       "      <td>...</td>\n",
       "      <td>...</td>\n",
       "    </tr>\n",
       "    <tr>\n",
       "      <th>2020-05-12 14:00:00</th>\n",
       "      <td>2020</td>\n",
       "      <td>5</td>\n",
       "      <td>12</td>\n",
       "      <td>PT60M</td>\n",
       "      <td>10YCH-SWISSGRIDZ</td>\n",
       "      <td>CTA</td>\n",
       "      <td>swissgrid CA</td>\n",
       "      <td>CH</td>\n",
       "      <td>7460.58</td>\n",
       "      <td>2020-05-12 21:21:14</td>\n",
       "    </tr>\n",
       "    <tr>\n",
       "      <th>2020-05-12 15:00:00</th>\n",
       "      <td>2020</td>\n",
       "      <td>5</td>\n",
       "      <td>12</td>\n",
       "      <td>PT60M</td>\n",
       "      <td>10YCH-SWISSGRIDZ</td>\n",
       "      <td>CTA</td>\n",
       "      <td>swissgrid CA</td>\n",
       "      <td>CH</td>\n",
       "      <td>7457.44</td>\n",
       "      <td>2020-05-12 22:49:48</td>\n",
       "    </tr>\n",
       "    <tr>\n",
       "      <th>2020-05-12 16:00:00</th>\n",
       "      <td>2020</td>\n",
       "      <td>5</td>\n",
       "      <td>12</td>\n",
       "      <td>PT60M</td>\n",
       "      <td>10YCH-SWISSGRIDZ</td>\n",
       "      <td>CTA</td>\n",
       "      <td>swissgrid CA</td>\n",
       "      <td>CH</td>\n",
       "      <td>6417.68</td>\n",
       "      <td>2020-05-13 00:21:11</td>\n",
       "    </tr>\n",
       "    <tr>\n",
       "      <th>2020-05-12 17:00:00</th>\n",
       "      <td>2020</td>\n",
       "      <td>5</td>\n",
       "      <td>12</td>\n",
       "      <td>PT60M</td>\n",
       "      <td>10YCH-SWISSGRIDZ</td>\n",
       "      <td>CTA</td>\n",
       "      <td>swissgrid CA</td>\n",
       "      <td>CH</td>\n",
       "      <td>7048.52</td>\n",
       "      <td>2020-05-13 01:20:36</td>\n",
       "    </tr>\n",
       "    <tr>\n",
       "      <th>2020-05-12 18:00:00</th>\n",
       "      <td>2020</td>\n",
       "      <td>5</td>\n",
       "      <td>12</td>\n",
       "      <td>PT60M</td>\n",
       "      <td>10YCH-SWISSGRIDZ</td>\n",
       "      <td>CTA</td>\n",
       "      <td>swissgrid CA</td>\n",
       "      <td>CH</td>\n",
       "      <td>6673.64</td>\n",
       "      <td>2020-05-13 02:35:05</td>\n",
       "    </tr>\n",
       "  </tbody>\n",
       "</table>\n",
       "<p>8515887 rows × 10 columns</p>\n",
       "</div>"
      ],
      "text/plain": [
       "                     Year  Month  Day ResolutionCode          areacode  \\\n",
       "DateTime                                                                 \n",
       "2014-12-31 23:00:00  2014     12   31          PT15M  10YDE-VE-------2   \n",
       "2014-12-31 23:15:00  2014     12   31          PT15M  10YDE-VE-------2   \n",
       "2014-12-31 23:30:00  2014     12   31          PT15M  10YDE-VE-------2   \n",
       "2014-12-31 23:45:00  2014     12   31          PT15M  10YDE-VE-------2   \n",
       "2015-01-01 00:00:00  2015      1    1          PT15M  10YDE-VE-------2   \n",
       "...                   ...    ...  ...            ...               ...   \n",
       "2020-05-12 14:00:00  2020      5   12          PT60M  10YCH-SWISSGRIDZ   \n",
       "2020-05-12 15:00:00  2020      5   12          PT60M  10YCH-SWISSGRIDZ   \n",
       "2020-05-12 16:00:00  2020      5   12          PT60M  10YCH-SWISSGRIDZ   \n",
       "2020-05-12 17:00:00  2020      5   12          PT60M  10YCH-SWISSGRIDZ   \n",
       "2020-05-12 18:00:00  2020      5   12          PT60M  10YCH-SWISSGRIDZ   \n",
       "\n",
       "                    AreaTypeCode      AreaName   MapCode  TotalLoadValue  \\\n",
       "DateTime                                                                   \n",
       "2014-12-31 23:00:00          CTA    50Hertz CA  DE_50HzT         7412.14   \n",
       "2014-12-31 23:15:00          CTA    50Hertz CA  DE_50HzT         7305.11   \n",
       "2014-12-31 23:30:00          CTA    50Hertz CA  DE_50HzT         7263.03   \n",
       "2014-12-31 23:45:00          CTA    50Hertz CA  DE_50HzT         7103.58   \n",
       "2015-01-01 00:00:00          CTA    50Hertz CA  DE_50HzT         6958.62   \n",
       "...                          ...           ...       ...             ...   \n",
       "2020-05-12 14:00:00          CTA  swissgrid CA        CH         7460.58   \n",
       "2020-05-12 15:00:00          CTA  swissgrid CA        CH         7457.44   \n",
       "2020-05-12 16:00:00          CTA  swissgrid CA        CH         6417.68   \n",
       "2020-05-12 17:00:00          CTA  swissgrid CA        CH         7048.52   \n",
       "2020-05-12 18:00:00          CTA  swissgrid CA        CH         6673.64   \n",
       "\n",
       "                              UpdateTime  \n",
       "DateTime                                  \n",
       "2014-12-31 23:00:00  2017-09-14 04:16:36  \n",
       "2014-12-31 23:15:00  2017-09-14 04:16:36  \n",
       "2014-12-31 23:30:00  2017-09-14 04:16:36  \n",
       "2014-12-31 23:45:00  2017-09-14 04:16:36  \n",
       "2015-01-01 00:00:00  2017-09-14 04:00:17  \n",
       "...                                  ...  \n",
       "2020-05-12 14:00:00  2020-05-12 21:21:14  \n",
       "2020-05-12 15:00:00  2020-05-12 22:49:48  \n",
       "2020-05-12 16:00:00  2020-05-13 00:21:11  \n",
       "2020-05-12 17:00:00  2020-05-13 01:20:36  \n",
       "2020-05-12 18:00:00  2020-05-13 02:35:05  \n",
       "\n",
       "[8515887 rows x 10 columns]"
      ]
     },
     "execution_count": 9,
     "metadata": {},
     "output_type": "execute_result"
    }
   ],
   "source": [
    "power_demand"
   ]
  },
  {
   "cell_type": "code",
   "execution_count": 10,
   "metadata": {
    "scrolled": true
   },
   "outputs": [
    {
     "data": {
      "text/plain": [
       "Text(0.5, 0, 'Month')"
      ]
     },
     "execution_count": 10,
     "metadata": {},
     "output_type": "execute_result"
    },
    {
     "data": {
      "image/png": "[encoded data removed]",
      "text/plain": [
       "<Figure size 432x288 with 1 Axes>"
      ]
     },
     "metadata": {
      "needs_background": "light"
     },
     "output_type": "display_data"
    }
   ],
   "source": [
    "mean_month_total_load = power_demand_countries_select.groupby([power_demand_countries_select.index.month, \"AreaName\"]).mean()[[\"TotalLoadValue\"]]\n",
    "mean_country_total_load = power_demand_countries_select.groupby([\"AreaName\"]).mean()[[\"TotalLoadValue\"]]\n",
    "month_total_load_quotient = mean_month_total_load / mean_country_total_load\n",
    "month_total_load_quotient = month_total_load_quotient.unstack()\n",
    "month_total_load_quotient.plot()\n",
    "plt.ylabel(\"Quotient monthly to total load\")\n",
    "plt.xlabel(\"Month\")"
   ]
  },
  {
   "cell_type": "markdown",
   "metadata": {},
   "source": [
    "In Sweden probably main energy consumer is heating (and maybe also lighting), thus increased energy consumption during the wither months and low energy consumption during the summer. In contrast, summer tourist season in Croatia increases energy demand during the summer months."
   ]
  },
  {
   "cell_type": "markdown",
   "metadata": {},
   "source": [
    "# Exercise 3 - calculate the hourly average consumption as deviation from mean consumption\n",
    "\n",
    "Do the same as in exercise 2, but now for the hourly average consumption. I.e. how much is consumed on each of the 24 hours of a day?\n",
    "\n",
    "Which country has the lowest, which the highest variability? What may be the reason for it?"
   ]
  },
  {
   "cell_type": "code",
   "execution_count": 11,
   "metadata": {},
   "outputs": [
    {
     "data": {
      "text/plain": [
       "Text(0.5, 0, 'Hour of day')"
      ]
     },
     "execution_count": 11,
     "metadata": {},
     "output_type": "execute_result"
    },
    {
     "data": {
      "image/png": "[encoded data removed]",
      "text/plain": [
       "<Figure size 432x288 with 1 Axes>"
      ]
     },
     "metadata": {
      "needs_background": "light"
     },
     "output_type": "display_data"
    }
   ],
   "source": [
    "mean_hourly_total_load = power_demand_countries_select.groupby([power_demand_countries_select.index.hour, \"AreaName\"]).mean()[[\"TotalLoadValue\"]]\n",
    "hourly_total_load_quotient = mean_hourly_total_load / mean_country_total_load\n",
    "hourly_total_load_quotient = hourly_total_load_quotient.unstack()\n",
    "hourly_total_load_quotient.plot()\n",
    "plt.ylabel(\"Quotient hourly load to mean load\")\n",
    "plt.xlabel(\"Hour of day\")"
   ]
  },
  {
   "cell_type": "code",
   "execution_count": 12,
   "metadata": {},
   "outputs": [
    {
     "name": "stdout",
     "output_type": "stream",
     "text": [
      "Sweden shows the lowest variability and United Kingdom shows the larges variability.\n"
     ]
    }
   ],
   "source": [
    "print(hourly_total_load_quotient.std().idxmin()[1], \"shows the lowest variability and\", \n",
    "      hourly_total_load_quotient.std().idxmax()[1], \"shows the larges variability.\")"
   ]
  },
  {
   "cell_type": "markdown",
   "metadata": {},
   "source": [
    "# Exercise 4 - Calculate the average load per capita\n",
    "\n",
    "Below you find a table with population data for our selected countries. You should use it to calculate per capita consumption.\n",
    "\n",
    "(1) Calculate the average load in all countries using ```groupby``` and ```mean``` and select the column ```TotalLoadValue``` from the result.\n",
    "\n",
    "(2) Divide the result by the ```Population``` column of the dataframe ```population```. Observe, how broadcasting helps here nicely.\n",
    "\n",
    "(3) Plot the result. Which country has the highest load, which the lowest? What may be the reason? In which unit is this value? How could we convert it to MWh per year?"
   ]
  },
  {
   "cell_type": "code",
   "execution_count": 13,
   "metadata": {},
   "outputs": [
    {
     "data": {
      "text/html": [
       "<div>\n",
       "<style scoped>\n",
       "    .dataframe tbody tr th:only-of-type {\n",
       "        vertical-align: middle;\n",
       "    }\n",
       "\n",
       "    .dataframe tbody tr th {\n",
       "        vertical-align: top;\n",
       "    }\n",
       "\n",
       "    .dataframe thead th {\n",
       "        text-align: right;\n",
       "    }\n",
       "</style>\n",
       "<table border=\"1\" class=\"dataframe\">\n",
       "  <thead>\n",
       "    <tr style=\"text-align: right;\">\n",
       "      <th></th>\n",
       "      <th>Country</th>\n",
       "      <th>Population</th>\n",
       "    </tr>\n",
       "    <tr>\n",
       "      <th>Country</th>\n",
       "      <th></th>\n",
       "      <th></th>\n",
       "    </tr>\n",
       "  </thead>\n",
       "  <tbody>\n",
       "    <tr>\n",
       "      <th>Austria</th>\n",
       "      <td>Austria</td>\n",
       "      <td>8840521</td>\n",
       "    </tr>\n",
       "    <tr>\n",
       "      <th>Croatia</th>\n",
       "      <td>Croatia</td>\n",
       "      <td>4087843</td>\n",
       "    </tr>\n",
       "    <tr>\n",
       "      <th>Germany</th>\n",
       "      <td>Germany</td>\n",
       "      <td>82905782</td>\n",
       "    </tr>\n",
       "    <tr>\n",
       "      <th>Italy</th>\n",
       "      <td>Italy</td>\n",
       "      <td>60421760</td>\n",
       "    </tr>\n",
       "    <tr>\n",
       "      <th>Spain</th>\n",
       "      <td>Spain</td>\n",
       "      <td>46796540</td>\n",
       "    </tr>\n",
       "    <tr>\n",
       "      <th>Sweden</th>\n",
       "      <td>Sweden</td>\n",
       "      <td>10175214</td>\n",
       "    </tr>\n",
       "    <tr>\n",
       "      <th>United Kingdom</th>\n",
       "      <td>United Kingdom</td>\n",
       "      <td>66460344</td>\n",
       "    </tr>\n",
       "  </tbody>\n",
       "</table>\n",
       "</div>"
      ],
      "text/plain": [
       "                       Country  Population\n",
       "Country                                   \n",
       "Austria                Austria     8840521\n",
       "Croatia                Croatia     4087843\n",
       "Germany                Germany    82905782\n",
       "Italy                    Italy    60421760\n",
       "Spain                    Spain    46796540\n",
       "Sweden                  Sweden    10175214\n",
       "United Kingdom  United Kingdom    66460344"
      ]
     },
     "execution_count": 13,
     "metadata": {},
     "output_type": "execute_result"
    }
   ],
   "source": [
    "population = pd.DataFrame({'Country': [\"Austria\", \"Croatia\", \"Germany\", \"Italy\", \"Spain\", \"Sweden\", \"United Kingdom\"],\n",
    "             'Population': [8840521, 4087843, 82905782, 60421760, 46796540, 10175214, 66460344]})\n",
    "\n",
    "population.index = population[\"Country\"]\n",
    "\n",
    "population"
   ]
  },
  {
   "cell_type": "code",
   "execution_count": 14,
   "metadata": {},
   "outputs": [
    {
     "data": {
      "text/html": [
       "<div>\n",
       "<style scoped>\n",
       "    .dataframe tbody tr th:only-of-type {\n",
       "        vertical-align: middle;\n",
       "    }\n",
       "\n",
       "    .dataframe tbody tr th {\n",
       "        vertical-align: top;\n",
       "    }\n",
       "\n",
       "    .dataframe thead th {\n",
       "        text-align: right;\n",
       "    }\n",
       "</style>\n",
       "<table border=\"1\" class=\"dataframe\">\n",
       "  <thead>\n",
       "    <tr style=\"text-align: right;\">\n",
       "      <th></th>\n",
       "      <th>TotalLoadValue</th>\n",
       "      <th>load_per_capita</th>\n",
       "    </tr>\n",
       "    <tr>\n",
       "      <th>AreaName</th>\n",
       "      <th></th>\n",
       "      <th></th>\n",
       "    </tr>\n",
       "  </thead>\n",
       "  <tbody>\n",
       "    <tr>\n",
       "      <th>Austria</th>\n",
       "      <td>7124.438760</td>\n",
       "      <td>0.000806</td>\n",
       "    </tr>\n",
       "    <tr>\n",
       "      <th>Croatia</th>\n",
       "      <td>2003.858225</td>\n",
       "      <td>0.000490</td>\n",
       "    </tr>\n",
       "    <tr>\n",
       "      <th>Germany</th>\n",
       "      <td>55859.257807</td>\n",
       "      <td>0.000674</td>\n",
       "    </tr>\n",
       "    <tr>\n",
       "      <th>Italy</th>\n",
       "      <td>33192.450073</td>\n",
       "      <td>0.000549</td>\n",
       "    </tr>\n",
       "    <tr>\n",
       "      <th>Spain</th>\n",
       "      <td>28664.970677</td>\n",
       "      <td>0.000613</td>\n",
       "    </tr>\n",
       "    <tr>\n",
       "      <th>Sweden</th>\n",
       "      <td>15623.217001</td>\n",
       "      <td>0.001535</td>\n",
       "    </tr>\n",
       "    <tr>\n",
       "      <th>United Kingdom</th>\n",
       "      <td>36318.162173</td>\n",
       "      <td>0.000546</td>\n",
       "    </tr>\n",
       "  </tbody>\n",
       "</table>\n",
       "</div>"
      ],
      "text/plain": [
       "                TotalLoadValue  load_per_capita\n",
       "AreaName                                       \n",
       "Austria            7124.438760         0.000806\n",
       "Croatia            2003.858225         0.000490\n",
       "Germany           55859.257807         0.000674\n",
       "Italy             33192.450073         0.000549\n",
       "Spain             28664.970677         0.000613\n",
       "Sweden            15623.217001         0.001535\n",
       "United Kingdom    36318.162173         0.000546"
      ]
     },
     "execution_count": 14,
     "metadata": {},
     "output_type": "execute_result"
    }
   ],
   "source": [
    "mean_country_total_load[\"load_per_capita\"] = mean_country_total_load[\"TotalLoadValue\"]/population [\"Population\"]\n",
    "mean_country_total_load"
   ]
  },
  {
   "cell_type": "code",
   "execution_count": 15,
   "metadata": {},
   "outputs": [
    {
     "data": {
      "text/plain": [
       "Text(0.5, 0, 'Country')"
      ]
     },
     "execution_count": 15,
     "metadata": {},
     "output_type": "execute_result"
    },
    {
     "data": {
      "image/png": "[encoded data removed]",
      "text/plain": [
       "<Figure size 432x288 with 1 Axes>"
      ]
     },
     "metadata": {
      "needs_background": "light"
     },
     "output_type": "display_data"
    }
   ],
   "source": [
    "mean_country_total_load[\"load_per_capita\"].plot(kind = \"bar\")\n",
    "plt.ylabel(\"Mean load per capita (MW)\")\n",
    "plt.xlabel(\"Country\")"
   ]
  },
  {
   "cell_type": "code",
   "execution_count": 16,
   "metadata": {},
   "outputs": [
    {
     "name": "stdout",
     "output_type": "stream",
     "text": [
      "Croatia shows the lowest per capita load and Sweden shows the largest per capita load.\n"
     ]
    }
   ],
   "source": [
    "print(mean_country_total_load[\"load_per_capita\"].idxmin(), \"shows the lowest per capita load and\", \n",
    "      mean_country_total_load[\"load_per_capita\"].idxmax(), \"shows the largest per capita load.\")"
   ]
  },
  {
   "cell_type": "markdown",
   "metadata": {},
   "source": [
    "A conversion to MWh can by done by multiplying the mean annual load with the number of hours of a year."
   ]
  }
 ],
 "metadata": {
  "kernelspec": {
   "display_name": "Python 3",
   "language": "python",
   "name": "python3"
  },
  "language_info": {
   "codemirror_mode": {
    "name": "ipython",
    "version": 3
   },
   "file_extension": ".py",
   "mimetype": "text/x-python",
   "name": "python",
   "nbconvert_exporter": "python",
   "pygments_lexer": "ipython3",
   "version": "3.7.7"
  }
 },
 "nbformat": 4,
 "nbformat_minor": 4
}
