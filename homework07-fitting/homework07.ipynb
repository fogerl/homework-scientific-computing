{
 "cells": [
  {
   "cell_type": "code",
   "execution_count": null,
   "metadata": {},
   "outputs": [],
   "source": [
    "import matplotlib.pyplot as plt\n",
    "import pandas as pd\n",
    "import os\n",
    "import numpy as np\n",
    "import datetime\n",
    "import glob\n",
    "from sklearn import datasets, linear_model, ensemble, neural_network\n",
    "from sklearn.metrics import mean_squared_error, r2_score\n",
    "from sklearn.model_selection import train_test_split\n",
    "import random\n",
    "from pathlib import Path\n",
    "\n",
    "DOWNLOAD_DIR = '<your directory>'\n",
    "\n"
   ]
  },
  {
   "cell_type": "code",
   "execution_count": null,
   "metadata": {},
   "outputs": [],
   "source": [
    "def read_single_csv_entso_e(file):\n",
    "    return pd.read_csv(file, sep='\\t', encoding='utf-16', parse_dates=[\"DateTime\"])\n",
    "\n",
    "\n",
    "def load_complete_entso_e_data(directory):\n",
    "    pattern = Path(directory) / '*.csv'\n",
    "    files = glob.glob(str(pattern))\n",
    "\n",
    "    if not files:\n",
    "        raise ValueError(f\"No files found when searching in {pattern}, wrong directory?\")\n",
    "    \n",
    "    print(f'Concatenating {len(files)} csv files...')\n",
    "\n",
    "    each_csv_file = [read_single_csv_entso_e(file) for file in files]\n",
    "    data = pd.concat(each_csv_file, ignore_index=True)\n",
    "\n",
    "    data = data.sort_values(by=[\"AreaName\", \"DateTime\"])\n",
    "    data = data.set_index(\"DateTime\")\n",
    "\n",
    "    print(\"Loading done.\")\n",
    "\n",
    "    return data\n",
    "\n",
    "\n",
    "power_demand = load_complete_entso_e_data(DOWNLOAD_DIR)"
   ]
  },
  {
   "cell_type": "code",
   "execution_count": null,
   "metadata": {},
   "outputs": [],
   "source": [
    "def get_hourly_country_data(data, country):\n",
    "    ret_data = data[data[\"AreaName\"] == country].interpolate()\n",
    "    #ret_data = ret_data.set_index(\"DateTime\")\n",
    "    ret_data = ret_data.resample(\"1h\").mean().interpolate()\n",
    "    return ret_data\n",
    "\n",
    "power_demand_at_hourly = get_hourly_country_data(power_demand, \"Austria\")[\"2015-01-01\":\"2019-12-31\"]"
   ]
  },
  {
   "cell_type": "markdown",
   "metadata": {},
   "source": [
    "## Homework 1\n",
    "\n",
    "Now put all of this together in one function which is simply called by the country name and calculates and plots the figure above! The model should be trained on 2015-2019 data and then you should predict for 2020 and compare it to observations. Also do a training/test split and print the R2 for both datasets. Apply the function to the following countries and show the results in one plot: Austria, Germany, Switzerland, Italy, Spain, Sweden, United Kingdom\n",
    "\n",
    "(1) Print the country name. Get the data for the specific country using ```get_country_data``` from the lecture and extract two periods, i.e 2015-2019 and 2020 in two seperate dataframes.\n",
    "\n",
    "(2) Define X (the input features, i.e. the indicators for time) and Y (i.e. the output feature, the electricity load). Observe that for training, we use the period 2015-2019.\n",
    "\n",
    "(3) Do a train/test split\n",
    "\n",
    "(4) Fit the input features to the output feature using a ```RandomForestRegressor```\n",
    "\n",
    "(5) Predict the output with the training data and the test data and compute the R^2 for both!\n",
    "\n",
    "(6) Print the R^2.\n",
    "\n",
    "(7) Create a new variable ```X_2020``` which contains the input features for the year 2020.\n",
    "\n",
    "(8) Predict with your model the load\n",
    "\n",
    "(9) Assign your prediction back to the dataframe and calculate the monthly mean for prediction and for observed load.\n",
    "\n",
    "(10) Plot the load. With ```label=country```, you can add a label to your plot for making a legend.\n",
    "\n",
    "(11) Execute the function for the following countries: Austria, Germany, Switzerland, Italy, Spain, Sweden, United Kingdom.\n",
    "Use a list comprehension to do so!\n",
    "\n",
    "(12) After calling the functions, use ```plt.legend()``` to show a legend."
   ]
  },
  {
   "cell_type": "code",
   "execution_count": null,
   "metadata": {},
   "outputs": [],
   "source": []
  },
  {
   "cell_type": "markdown",
   "metadata": {},
   "source": [
    "## Homework 2\n",
    "\n",
    "Answer the following questions:\n",
    "(1) Which country had the strongest decline in electricity consumption?\n",
    "(2) For which country the fit works best?\n",
    "(3) Where is the difference between R2 with training data and with test data largest.\n",
    "(4) Look into the data of the country with the largest difference. Can you explain what is happening there? Might this effect our model?"
   ]
  }
 ],
 "metadata": {
  "kernelspec": {
   "display_name": "Python 3",
   "language": "python",
   "name": "python3"
  },
  "language_info": {
   "codemirror_mode": {
    "name": "ipython",
    "version": 3
   },
   "file_extension": ".py",
   "mimetype": "text/x-python",
   "name": "python",
   "nbconvert_exporter": "python",
   "pygments_lexer": "ipython3",
   "version": "3.7.6"
  }
 },
 "nbformat": 4,
 "nbformat_minor": 4
}
