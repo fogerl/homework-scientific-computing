{
 "cells": [
  {
   "cell_type": "markdown",
   "metadata": {},
   "source": [
    "# Homework 05"
   ]
  },
  {
   "cell_type": "markdown",
   "metadata": {},
   "source": [
    "### Exercise 1 - Terminology\n",
    "\n",
    "Describe the following terms with your own words:\n",
    "\n",
    "***boolean array:*** array that returns logical values like TRUE/FALSE\n",
    "\n",
    "***shape:*** returns the shape (dimension= number of rows and columns) of an array\n",
    "\n",
    "***axis:*** directions along the rows (axis 0) and columns (axis 1) of an array; with np.newaxis more dimensions can be added to the array "
   ]
  },
  {
   "cell_type": "code",
   "execution_count": 3,
   "metadata": {},
   "outputs": [
    {
     "name": "stdout",
     "output_type": "stream",
     "text": [
      "[[ True  True  True  True]\n",
      " [ True False False False]\n",
      " [False False False False]\n",
      " [False False False False]]\n",
      "[6. 7. 8. 9.]\n",
      "[ 1.5  5.5  9.5 13.5]\n"
     ]
    },
    {
     "data": {
      "text/plain": [
       "(4, 4, 1)"
      ]
     },
     "execution_count": 3,
     "metadata": {},
     "output_type": "execute_result"
    }
   ],
   "source": [
    " import numpy as np\n",
    "# boolean array example\n",
    "a = np.reshape(np.arange(16), (4,4))\n",
    "boolean_array = a<5\n",
    "print(boolean_array)\n",
    "\n",
    "#shape\n",
    "a.shape\n",
    "\n",
    "#axis\n",
    "mean_axis_0 = np.mean(a, axis=0) #rows are collapsed and mean of each column of array is calculated\n",
    "print(mean_axis_0)\n",
    "mean_axis_1 = np.mean(a, axis=1) #columns are collapsed and mean of each row of array is calculated\n",
    "print(mean_axis_1)\n",
    "b_3D = a[:,:,np.newaxis]\n",
    "b_3D.shape"
   ]
  },
  {
   "cell_type": "markdown",
   "metadata": {},
   "source": [
    "Answer the following questions:\n",
    "\n",
    "***Which ways are there to select one or more elements from a Numpy array?***\n",
    "\n",
    "***What is the difference between Numpy and Scipy?***"
   ]
  },
  {
   "cell_type": "code",
   "execution_count": null,
   "metadata": {},
   "outputs": [],
   "source": [
    "#Which ways are there to select one or more elements from a Numpy array?\n",
    "\n",
    "x = np.reshape(np.arange(6),(2,3))\n",
    "#selecting row\n",
    "row0 = x[0,:]\n",
    "#selecting column\n",
    "column2 = x[:,2]\n",
    "#selecting index \n",
    "index0_1 = x[0,1]\n",
    "#selecting for third column both rows \n",
    "x[0:2,2]\n",
    "\n",
    "#Difference between Numpy and Scipy\n",
    "#Numpy cntains basic operations for array data type\n",
    "#Scipy more fully featured version of linear algebra moduls and numerical algorithms"
   ]
  },
  {
   "cell_type": "markdown",
   "metadata": {},
   "source": [
    "### Exercise 2 - Download data from entsoe-e for Lecture 6"
   ]
  },
  {
   "cell_type": "markdown",
   "metadata": {},
   "source": [
    "For lecture 6, we need to download data from the Entso-e [transparency platform](https://transparency.entsoe.eu/): Entso-e provides (almost) real-time data on European electricity systems. We will download hourly load data (i.e. electricity demand) for all systems in Europe. First, you need to get a user account at Entsoe-e [here](https://transparency.entsoe.eu/usrm/user/createPublicUser). \n",
    "\n",
    "We are going to use the S-FTP server of Entso-e. To use S-FTP in Python, you have to install the package pysftp. You can do so here in the notebook by executing the following command (please be aware that this may take some time):"
   ]
  },
  {
   "cell_type": "code",
   "execution_count": null,
   "metadata": {},
   "outputs": [],
   "source": [
    "!conda install -c conda-forge pysftp --yes"
   ]
  },
  {
   "cell_type": "markdown",
   "metadata": {},
   "source": [
    "Now we are ready to download the data. In principle, you simply have to fill out your account information (by setting ```USER``` and ```PWD```), decide where to put the data locally by assigning a path to a ```DOWNLOAD_DIR``` and run the 4 cells below. If the download directory does not exist, it will be created. The download will take some time, so you may want to run the script overnight. \n",
    "\n",
    "If the download fails at some point, you can restart it by simply executing the cell again. Files which are already downloaded will not be downloaded again. ***Hint:*** I had problems downloading to a directoy which was on a google drive - so if you run into an error message, which says ```OSError: size mismatch in get!``` you may want to choose a directory which is not on a google drive or possibly a dropbox. Also, this error may occur if your disk is full. "
   ]
  },
  {
   "cell_type": "code",
   "execution_count": null,
   "metadata": {},
   "outputs": [],
   "source": [
    "import os\n",
    "import pysftp\n",
    "\n",
    "# if you want, you can modify this too, per default it will create a folder\n",
    "# in the parant folder of the homework repository:\n",
    "DOWNLOAD_DIR = '../../entsoe-data'\n",
    "\n",
    "CATEGORIES = [\n",
    "    'ActualTotalLoad'\n",
    "]"
   ]
  },
  {
   "cell_type": "code",
   "execution_count": null,
   "metadata": {},
   "outputs": [],
   "source": [
    "# To avoid storing the user credentials in the public Github repository,\n",
    "# these commands will ask you to enter them interactively:\n",
    "from getpass import getpass\n",
    "user = getpass('User for ENTSO-E API:')\n",
    "pwd = getpass('Password for ENTSO-E API:')"
   ]
  },
  {
   "cell_type": "code",
   "execution_count": null,
   "metadata": {},
   "outputs": [],
   "source": [
    "def download_entsoe_data(user, pwd, category, output_dir, server_uri='sftp-transparency.entsoe.eu'):\n",
    "    \"\"\"Download a dataset from ENTSO-E's transparency data sftp server.\n",
    "    \n",
    "    Contact ENTSO-E to receive login credentials:\n",
    "    https://transparency.entsoe.eu/usrm/user/createPublicUser\n",
    "    \n",
    "    :param user: user name required for connecting with sftp server\n",
    "    :param pwd: password required for connecting with sftp server\n",
    "    :param category: ENTSO-E data category to be downloaded\n",
    "    :param output_dir: directory where downloaded data is saved to, a separate \n",
    "        subdirectory is created for each category.\n",
    "    :param server_uri: URI of ENTSO-E transparency server (default last updated on 2020-05-01)\n",
    "    \n",
    "    \"\"\"\n",
    "    abspath = os.path.abspath(output_dir)\n",
    "    \n",
    "    # check if local_dir exists and create if it doesn't\n",
    "    if not os.path.exists(abspath):\n",
    "        os.mkdir(abspath)\n",
    "        print (f'Successfully created the directory {abspath} and using it for download')\n",
    "    else:\n",
    "        print (f'{abspath} exists and will be used for download')  \n",
    "\n",
    "    print(\"\\nCopy this path for other notebooks, e.g. the next lecture or homework:\\n\"\n",
    "          f\"DOWNLOAD_DIR = '{abspath}'\\n\")\n",
    "        \n",
    "    cnopts = pysftp.CnOpts()\n",
    "    cnopts.hostkeys = None\n",
    "    \n",
    "    # connect to entsoe server via sFTP\n",
    "    entsoe_dir = f'/TP_export/{category}'\n",
    "   \n",
    "    with pysftp.Connection(server_uri, username=user, password=pwd, cnopts=cnopts) as sftp:\n",
    "        sftp.chdir(entsoe_dir)\n",
    "        files_entsoe = sftp.listdir()\n",
    "        to_download = list(files_entsoe)\n",
    "        \n",
    "        print(f'In total, {len(to_download)} files are going to be downloaded')\n",
    "        \n",
    "        # download files not on disk\n",
    "        \n",
    "        for file in to_download:\n",
    "            print(f'Downloading file {file}...')\n",
    "            \n",
    "            dest_file = os.path.join(abspath, file)\n",
    "            \n",
    "            if not os.path.exists(dest_file):\n",
    "                temp_file = os.path.join(abspath, f'{file}.partial')\n",
    "                \n",
    "                sftp.get(f'{entsoe_dir}/{file}', temp_file)\n",
    "                \n",
    "                os.rename(temp_file, dest_file)                   \n",
    "                print(f'{file} downloaded successfully.')\n",
    "                \n",
    "            else:\n",
    "                 print(f'{file} already present locally, skipping download.')\n",
    "           \n",
    "    sftp.close()\n",
    "    print(\"All downloads completed\")"
   ]
  },
  {
   "cell_type": "code",
   "execution_count": null,
   "metadata": {},
   "outputs": [],
   "source": [
    "# download data...\n",
    "for category in CATEGORIES:\n",
    "    download_entsoe_data(user, pwd, category, DOWNLOAD_DIR)"
   ]
  },
  {
   "cell_type": "markdown",
   "metadata": {},
   "source": [
    "**Privacy note:** If you don't want to publish the path to your repository on Github (it may contain your Windows user name for example), clear the output of the cell above before saving the Notebook! (In the menu via Cell -> Current outputs -> Clear.)"
   ]
  },
  {
   "cell_type": "markdown",
   "metadata": {},
   "source": [
    "### Exercise 3 - Create a diagonal matrix\n",
    "\n",
    "Create a matrix `m` with shape `(4, 4)` by using `np.zeros()` and set the 4 diagonal elements to `1` by using indexing using `np.arange()`. Do not use more two assign statements in total for this exercise!\n",
    "\n",
    "Bonus: Find multiple ways to avoid calling `np.arange()` twice and analyze which is the best regarding readability, performance and memory usage!\n",
    "\n",
    "Note: Normally you would use `np.diag()` to do this. You can also have a look into the code using `np.diag??`, but it's probably easier to write your own implementation (which might be less generic and slower, but way simpler)."
   ]
  },
  {
   "cell_type": "code",
   "execution_count": 22,
   "metadata": {},
   "outputs": [
    {
     "data": {
      "text/plain": [
       "array([[1, 0, 0, 0],\n",
       "       [0, 1, 0, 0],\n",
       "       [0, 0, 1, 0],\n",
       "       [0, 0, 0, 1]])"
      ]
     },
     "execution_count": 22,
     "metadata": {},
     "output_type": "execute_result"
    }
   ],
   "source": [
    "m = np.zeros((4,4),int)\n",
    "m[np.arange(4), np.arange(4)]=1\n",
    "m"
   ]
  },
  {
   "cell_type": "markdown",
   "metadata": {},
   "source": [
    "### Exercise 4 - Invasion\n",
    "\n",
    "Create a canvas using `np.zeros()` of shape `(8, 11)`. Then set the following elements to one using fancy slicing techniques:\n",
    "\n",
    " - Rows 4 and 5 completely.\n",
    " - In row 3 all elements except the first one.\n",
    " - In row 2 all elements except the first two ones.\n",
    " - The two elements defined by: `row_idcs, column_idcs = [0, 1], [2, 3]`\n",
    " - In row 6 the elements in column 0 and 2.\n",
    " - In row 7 all elements except the first three and the last three.\n",
    " \n",
    "And then afterwards the following elements to zero:\n",
    " - The three elements defined by: `row_idcs, column_idcs = [3, 5, 7], [3, 1, 5]`\n",
    "\n",
    "As a last step, set assign the content of the first five columns to the last five columns in reversed order. This can be done by using a `step=-1` and starting with 4, i.e. the first five columns in reversed order are indexed by `canvas[:, 4::-1]`.\n",
    "\n",
    "Then plot the canvas using `plt.imshow()` with the parameter `cmap='gray'`!\n",
    "\n",
    "**Hint:** it helps a lot to have all commands in one cell (including the `imshow()` command) and execute the cell often, to check the result.\n",
    "\n",
    "**Note:** When ever the instruction says \"first element\" it is something like `x[0]`, because it refers to the first one in the array. If it is column 1 or row 1 it is `x[1]`, because it refers then to the index of the column/row.\n",
    "\n",
    "**Note:** It is `canvas[row_index, column_index]`, so if you are thinking in x/y coordinates, it is `canvas[y, x]` and the y axis goes downwards."
   ]
  },
  {
   "cell_type": "code",
   "execution_count": 54,
   "metadata": {},
   "outputs": [
    {
     "data": {
      "text/plain": [
       "<matplotlib.image.AxesImage at 0x1eea7789fc8>"
      ]
     },
     "execution_count": 54,
     "metadata": {},
     "output_type": "execute_result"
    },
    {
     "data": {
      "image/png": "[encoded data removed]",
      "text/plain": [
       "<Figure size 432x288 with 1 Axes>"
      ]
     },
     "metadata": {
      "needs_background": "light"
     },
     "output_type": "display_data"
    }
   ],
   "source": [
    "canvas = np.zeros((8,11),int)\n",
    "canvas[4:6,]=1\n",
    "canvas[3,1:12]=1\n",
    "canvas[2,2:12]=1\n",
    "canvas[[0,1],[2,3]]=1\n",
    "canvas[[6], [0,2]]=1\n",
    "canvas[7,3:-3]=1\n",
    "canvas[[3,5,7],[3,1,5]]=0\n",
    "canvas\n",
    "x = canvas[:, 4::-1]\n",
    "canvas[:,6:11]=x\n",
    "plt.imshow(canvas, cmap='gray')"
   ]
  },
  {
   "cell_type": "markdown",
   "metadata": {},
   "source": [
    "### Exercise 5 - Draw a circle\n",
    "\n",
    "Draw a full circle: first define a resolution e.g. $N=50$. Then define coordinates $x$ and $y$ using `np.linspace()` and pass the resolution as parameter `num=N`. Use `np.meshgrid()` to define a grid `xx` and `yy`. Define a canvas of shape `(N, N)` using `np.zeros()`. Then use the circle formula $x^2 + y^2 < r^2$ to define all circle points on the grid (use $r=2$). Then use the boolean 2D expression to set the inside of the circle to 1. Finally plot the canvas using `imshow()`."
   ]
  },
  {
   "cell_type": "code",
   "execution_count": 104,
   "metadata": {},
   "outputs": [
    {
     "data": {
      "text/plain": [
       "<matplotlib.image.AxesImage at 0x1eea94a9408>"
      ]
     },
     "execution_count": 104,
     "metadata": {},
     "output_type": "execute_result"
    },
    {
     "data": {
      "image/png": "[encoded data removed]",
      "text/plain": [
       "<Figure size 432x288 with 1 Axes>"
      ]
     },
     "metadata": {
      "needs_background": "light"
     },
     "output_type": "display_data"
    }
   ],
   "source": [
    "N=50\n",
    "x = np.linspace(-4,4,num=N)\n",
    "y = np.linspace(-4,4,num=N)\n",
    "xx,yy = np.meshgrid(x,y)\n",
    "circle = np.zeros((N,N),int)\n",
    "r=2\n",
    "circle[xx**2+yy**2<r**2]=1\n",
    "plt.imshow(circle, cmap='gray')"
   ]
  },
  {
   "cell_type": "markdown",
   "metadata": {},
   "source": [
    "### Exercise 6 - Frequency of shades of gray\n",
    "\n",
    "Convert the picture `numpy-meme.png` to gray scale and plot a histogram!\n",
    "\n",
    "**Instructions:** Load the image by using `plt.imread()`. This will return a three dimensional array (width, height and colors) with values between zero and one. Using the formula `gray = red * 0.2125 + green * 0.7154 + blue * 0.0721`, convert the picture to shades of gray. Look at the shape of the image and pick the right axis by looking at the length of the array in this axis! You can first calculate a weighted version of the array by multiplying with a vector of length 3 (and the three weights) and then sum along the right axis. Check the shape of the gray image afterwards and plot it using `plt.imshow()` with the parameter `cmap='gray'`. It should be only two dimensional now. Use `image_gray.flatten()` to get all pixels as one-dimensional vector and pass this to the function `plt.hist()` with the parameter `bins=50` to get 50 bins with different gray values."
   ]
  },
  {
   "cell_type": "code",
   "execution_count": 132,
   "metadata": {},
   "outputs": [
    {
     "data": {
      "text/plain": [
       "<matplotlib.image.AxesImage at 0x1eea9f60788>"
      ]
     },
     "execution_count": 132,
     "metadata": {},
     "output_type": "execute_result"
    },
    {
     "data": {
      "image/png": "[encoded data removed]",
      "text/plain": [
       "<Figure size 432x288 with 1 Axes>"
      ]
     },
     "metadata": {
      "needs_background": "light"
     },
     "output_type": "display_data"
    }
   ],
   "source": [
    "import numpy as np\n",
    "import matplotlib\n",
    "import matplotlib.pyplot as plt\n",
    "\n",
    "\n",
    "numpy_meme = plt.imread(\"numpy-meme.png\")\n",
    "plt.imshow(numpy_meme)\n",
    "np.shape(numpy_meme) #423,500,3\n",
    "red = numpy_meme[:,:,0]\n",
    "green = numpy_meme[:,:,1]\n",
    "blue = numpy_meme[:,:,2]\n",
    "image_gray = red * 0.2125 + green * 0.7154 + blue * 0.0721\n",
    "np.shape(image_gray) #423*500\n",
    "plt.imshow(image_gray, cmap=\"gray\")\n",
    "\n"
   ]
  },
  {
   "cell_type": "code",
   "execution_count": 133,
   "metadata": {},
   "outputs": [
    {
     "data": {
      "text/plain": [
       "(array([1.08300e+03, 1.27370e+04, 2.13800e+03, 4.23100e+03, 5.14100e+03,\n",
       "        3.07200e+03, 3.89900e+03, 2.25800e+03, 1.97700e+03, 2.42600e+03,\n",
       "        2.01400e+03, 1.65400e+03, 2.31800e+03, 2.76900e+03, 1.91800e+03,\n",
       "        1.44700e+03, 6.92000e+02, 1.98500e+03, 7.84000e+02, 8.52000e+02,\n",
       "        1.38100e+03, 7.09000e+02, 5.39000e+02, 7.53000e+02, 3.60000e+02,\n",
       "        3.77000e+02, 5.14000e+02, 4.13000e+02, 4.98000e+02, 1.79800e+03,\n",
       "        7.50500e+03, 2.45900e+03, 2.13100e+03, 5.98200e+03, 7.07900e+03,\n",
       "        3.97700e+03, 1.08000e+02, 7.20000e+01, 1.72000e+02, 9.40000e+01,\n",
       "        1.94000e+02, 0.00000e+00, 7.30000e+01, 0.00000e+00, 2.82000e+02,\n",
       "        7.30000e+01, 1.03000e+02, 1.33000e+02, 5.38000e+02, 1.17788e+05]),\n",
       " array([0.0819353 , 0.10029659, 0.11865789, 0.13701919, 0.15538047,\n",
       "        0.17374176, 0.19210306, 0.21046436, 0.22882564, 0.24718693,\n",
       "        0.26554823, 0.28390953, 0.30227083, 0.3206321 , 0.3389934 ,\n",
       "        0.3573547 , 0.37571597, 0.39407727, 0.41243857, 0.43079987,\n",
       "        0.44916117, 0.46752244, 0.48588374, 0.50424504, 0.5226063 ,\n",
       "        0.54096764, 0.5593289 , 0.5776902 , 0.5960515 , 0.6144128 ,\n",
       "        0.6327741 , 0.6511354 , 0.66949666, 0.687858  , 0.70621926,\n",
       "        0.7245805 , 0.74294186, 0.7613031 , 0.7796644 , 0.7980257 ,\n",
       "        0.816387  , 0.8347483 , 0.8531096 , 0.87147087, 0.8898322 ,\n",
       "        0.90819347, 0.9265548 , 0.94491607, 0.96327734, 0.98163867,\n",
       "        0.99999994], dtype=float32),\n",
       " <a list of 50 Patch objects>)"
      ]
     },
     "execution_count": 133,
     "metadata": {},
     "output_type": "execute_result"
    },
    {
     "data": {
      "image/png": "[encoded data removed]",
      "text/plain": [
       "<Figure size 432x288 with 1 Axes>"
      ]
     },
     "metadata": {
      "needs_background": "light"
     },
     "output_type": "display_data"
    }
   ],
   "source": [
    "plt.hist(image_gray.flatten(), bins=50)"
   ]
  },
  {
   "cell_type": "code",
   "execution_count": null,
   "metadata": {},
   "outputs": [],
   "source": [
    "matplotlib.rc('figure', figsize=(15, 10))"
   ]
  },
  {
   "cell_type": "markdown",
   "metadata": {},
   "source": [
    "### Exercise 7 - Count colors  (optional)\n",
    "\n",
    "Calculate the number of colors used in the picture `numpy-meme.png` and the percentage of the color space (3 x 8bit, i.e. 256 values per color) used!\n",
    "\n",
    "**Instructions:** Load the image by using `plt.imread()`. This will return a three dimensional array (width, height and colors) with values between zero and one. Multiplying the array with 255 will restore the original 8bit values (integer values between 0 and 255). After multiplying by 255 use `image = image.astype(int)` to convert the image to integer type. Plot the `image` using `plt.imshow()` to see the image and guess the result. Check the shape of the array. One of the axes is of length three - this is the color axis (red, green and blue). We want to map all colors to unique integers. This can be done by defining `colors = red  + green * 256 + blue * 256**2`. This is a unique mapping between the triples `(red, green, blue)` and the integers `color` similar to decimal digits (three values between 0 and 9 e.g. `(3, 5, 1)` can be mapped to a three digit number `3 + 5 * 10 + 1 * 100 = 153`). Then use `np.unique()` to get an array with unique colors (in the mapped form as in `color`). This can be used to determine the number of unique colors in the image. This value can also be used to calculate the percentage of the color space used.\n",
    "\n",
    "<small>Image source: https://me.me/i/1-import-numpy-1-import-numpy-as-np-there-is-e4a6fb9cf75b413dbb3154794fd3d603</small>"
   ]
  },
  {
   "cell_type": "markdown",
   "metadata": {},
   "source": [
    "Inspired by [this exercise](https://github.com/rougier/numpy-100/blob/master/100_Numpy_exercises_with_solutions.md#66-considering-a-wh3-image-of-dtypeubyte-compute-the-number-of-unique-colors-) (MIT licensed, [DOI](https://zenodo.org/badge/latestdoi/10173/rougier/numpy-100))"
   ]
  }
 ],
 "metadata": {
  "kernelspec": {
   "display_name": "Python 3",
   "language": "python",
   "name": "python3"
  },
  "language_info": {
   "codemirror_mode": {
    "name": "ipython",
    "version": 3
   },
   "file_extension": ".py",
   "mimetype": "text/x-python",
   "name": "python",
   "nbconvert_exporter": "python",
   "pygments_lexer": "ipython3",
   "version": "3.7.6"
  }
 },
 "nbformat": 4,
 "nbformat_minor": 4
}
